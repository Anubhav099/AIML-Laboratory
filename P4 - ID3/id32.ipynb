{
 "cells": [
  {
   "cell_type": "code",
   "execution_count": null,
   "id": "999965eb",
   "metadata": {},
   "outputs": [],
   "source": [
    "import pandas as pd\n",
    "import numpy as np\n",
    "eps=np.finfo(float).eps\n",
    "from numpy import log2 as log\n",
    "df=pd.read_csv(\"PlayTennis.csv\")"
   ]
  },
  {
   "cell_type": "code",
   "execution_count": null,
   "id": "7be5746d",
   "metadata": {},
   "outputs": [],
   "source": [
    "def find_entropy(df):\n",
    "    Class = df.keys()[-1]   #To make the code generic, changing target variable class name\n",
    "    entropy = 0\n",
    "    values = df[Class].unique()\n",
    "    for value in values:\n",
    "        fraction = df[Class].value_counts()[value]/len(df[Class])\n",
    "        entropy += -fraction*np.log2(fraction)\n",
    "    return entropy"
   ]
  },
  {
   "cell_type": "code",
   "execution_count": null,
   "id": "988ed8e9",
   "metadata": {},
   "outputs": [],
   "source": [
    "def find_entropy_attribute(df,attribute):\n",
    "  Class = df.keys()[-1]   #To make the code generic, changing target variable class name\n",
    "  target_variables = df[Class].unique()  #This gives all 'Yes' and 'No'\n",
    "  variables = df[attribute].unique()    #This gives different features in that attribute (like 'Hot','Cold' in Temperature)\n",
    "  entropy2 = 0\n",
    "  for variable in variables:\n",
    "      entropy = 0\n",
    "      for target_variable in target_variables:\n",
    "          num = len(df[attribute][df[attribute]==variable][df[Class] ==target_variable])\n",
    "          den = len(df[attribute][df[attribute]==variable])\n",
    "          fraction = num/(den+eps)\n",
    "          entropy += -fraction*log(fraction+eps)\n",
    "      fraction2 = den/len(df)\n",
    "      entropy2 += -fraction2*entropy\n",
    "  return abs(entropy2)"
   ]
  },
  {
   "cell_type": "code",
   "execution_count": null,
   "id": "beb8bf70",
   "metadata": {},
   "outputs": [],
   "source": [
    "def find_winner(df):\n",
    "    Entropy_att = []\n",
    "    IG = []\n",
    "    for key in df.keys()[:-1]:\n",
    "#         Entropy_att.append(find_entropy_attribute(df,key))\n",
    "        IG.append(find_entropy(df)-find_entropy_attribute(df,key))\n",
    "    return df.keys()[:-1][np.argmax(IG)]"
   ]
  },
  {
   "cell_type": "code",
   "execution_count": null,
   "id": "0cfcb7bf",
   "metadata": {
    "scrolled": true
   },
   "outputs": [],
   "source": [
    "def get_subtable(df, node,value):\n",
    "  return df[df[node] == value].reset_index(drop=True)"
   ]
  },
  {
   "cell_type": "code",
   "execution_count": null,
   "id": "17869a78",
   "metadata": {},
   "outputs": [],
   "source": [
    "def buildTree(df,tree=None): \n",
    "    Class = df.keys()[-1]   #To make the code generic, changing target variable class name\n",
    "    \n",
    "    #Here we build our decision tree\n",
    "\n",
    "    #Get attribute with maximum information gain\n",
    "    node = find_winner(df)\n",
    "    \n",
    "    #Get distinct value of that attribute e.g Salary is node and Low,Med and High are values\n",
    "    attValue = np.unique(df[node])\n",
    "    \n",
    "    #Create an empty dictionary to create tree    \n",
    "    if tree is None:                    \n",
    "        tree={}\n",
    "        tree[node] = {}\n",
    "    \n",
    "   #We make loop to construct a tree by calling this function recursively. \n",
    "    #In this we check if the subset is pure and stops if it is pure. \n",
    "\n",
    "    for value in attValue:\n",
    "        \n",
    "        subtable = get_subtable(df,node,value)\n",
    "        clValue,counts = np.unique(subtable['Play Tennis'],return_counts=True)                        \n",
    "        \n",
    "        if len(counts)==1:#Checking purity of subset\n",
    "            tree[node][value] = clValue[0]                                                    \n",
    "        else:        \n",
    "            tree[node][value] = buildTree(subtable) #Calling the function recursively \n",
    "                   \n",
    "    return tree\n"
   ]
  },
  {
   "cell_type": "code",
   "execution_count": null,
   "id": "f81c69e1",
   "metadata": {},
   "outputs": [],
   "source": [
    "print(\"Given play tennis data set:\\n\\n\",df)\n",
    "tree=buildTree(df)\n",
    "import pprint\n",
    "print(\"\\nDESCISION TREE:\")\n",
    "pprint.pprint(tree)"
   ]
  },
  {
   "cell_type": "code",
   "execution_count": null,
   "id": "89792757",
   "metadata": {},
   "outputs": [],
   "source": [
    "test={'Outlook':'Sunny','Temperature':'Hot','Humidity':'High','Wind':'Weak'}\n",
    "\n",
    "def func(test,tree,default=None):\n",
    "\tattribute=next(iter(tree))\n",
    "\tprint(attribute)\n",
    "\tif test[attribute] in tree[attribute].keys():\n",
    "\t\tprint(tree[attribute].keys())\n",
    "\t\tprint(test[attribute])\n",
    "\t\tresult=tree[attribute][test[attribute]]\n",
    "\t\tif isinstance(result,dict):\n",
    "\t\t\treturn func(test,result)\n",
    "\t\telse:\n",
    "\t\t\treturn result\n",
    "\telse:\n",
    "\t\treturn default\n",
    "ans=func(test,tree)\n",
    "print(ans)"
   ]
  },
  {
   "cell_type": "code",
   "execution_count": null,
   "id": "c5fd3f47",
   "metadata": {},
   "outputs": [],
   "source": [
    "print(find_entropy(df)) # Entropy of the dataset"
   ]
  },
  {
   "cell_type": "code",
   "execution_count": null,
   "metadata": {},
   "outputs": [],
   "source": [
    "def allYesRows(df):\n",
    "    fileteredDF = df[df['Play Tennis'] == 'Yes']\n",
    "    return fileteredDF\n",
    "\n",
    "print(allYesRows(df)) # Print all the rows where label = \"Yes\""
   ]
  },
  {
   "cell_type": "code",
   "execution_count": null,
   "id": "dba0f344",
   "metadata": {},
   "outputs": [],
   "source": [
    "def countRows():\n",
    "    numRows = len(df)\n",
    "    return numRows\n",
    "\n",
    "print(\"No. of Rows in the dataset =\",countRows())"
   ]
  },
  {
   "cell_type": "code",
   "execution_count": null,
   "id": "3a3d607b",
   "metadata": {},
   "outputs": [],
   "source": [
    "def countCols():\n",
    "    numCols = df.shape[1]\n",
    "    return numCols\n",
    "\n",
    "print(\"No. of Cols in the dataset =\",countCols())"
   ]
  }
 ],
 "metadata": {
  "kernelspec": {
   "display_name": "Python 3 (ipykernel)",
   "language": "python",
   "name": "python3"
  },
  "language_info": {
   "codemirror_mode": {
    "name": "ipython",
    "version": 3
   },
   "file_extension": ".py",
   "mimetype": "text/x-python",
   "name": "python",
   "nbconvert_exporter": "python",
   "pygments_lexer": "ipython3",
   "version": "3.11.0"
  }
 },
 "nbformat": 4,
 "nbformat_minor": 5
}
